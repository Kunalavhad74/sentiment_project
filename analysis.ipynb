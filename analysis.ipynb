{
 "cells": [
  {
   "cell_type": "code",
   "execution_count": 1,
   "id": "545d86f6",
   "metadata": {},
   "outputs": [
    {
     "name": "stdout",
     "output_type": "stream",
     "text": [
      "Data loaded successfully!\n"
     ]
    },
    {
     "data": {
      "text/html": [
       "<div>\n",
       "<style scoped>\n",
       "    .dataframe tbody tr th:only-of-type {\n",
       "        vertical-align: middle;\n",
       "    }\n",
       "\n",
       "    .dataframe tbody tr th {\n",
       "        vertical-align: top;\n",
       "    }\n",
       "\n",
       "    .dataframe thead th {\n",
       "        text-align: right;\n",
       "    }\n",
       "</style>\n",
       "<table border=\"1\" class=\"dataframe\">\n",
       "  <thead>\n",
       "    <tr style=\"text-align: right;\">\n",
       "      <th></th>\n",
       "      <th>review</th>\n",
       "      <th>sentiment</th>\n",
       "    </tr>\n",
       "  </thead>\n",
       "  <tbody>\n",
       "    <tr>\n",
       "      <th>0</th>\n",
       "      <td>One of the other reviewers has mentioned that ...</td>\n",
       "      <td>positive</td>\n",
       "    </tr>\n",
       "    <tr>\n",
       "      <th>1</th>\n",
       "      <td>A wonderful little production. &lt;br /&gt;&lt;br /&gt;The...</td>\n",
       "      <td>positive</td>\n",
       "    </tr>\n",
       "    <tr>\n",
       "      <th>2</th>\n",
       "      <td>I thought this was a wonderful way to spend ti...</td>\n",
       "      <td>positive</td>\n",
       "    </tr>\n",
       "    <tr>\n",
       "      <th>3</th>\n",
       "      <td>Basically there's a family where a little boy ...</td>\n",
       "      <td>negative</td>\n",
       "    </tr>\n",
       "    <tr>\n",
       "      <th>4</th>\n",
       "      <td>Petter Mattei's \"Love in the Time of Money\" is...</td>\n",
       "      <td>positive</td>\n",
       "    </tr>\n",
       "  </tbody>\n",
       "</table>\n",
       "</div>"
      ],
      "text/plain": [
       "                                              review sentiment\n",
       "0  One of the other reviewers has mentioned that ...  positive\n",
       "1  A wonderful little production. <br /><br />The...  positive\n",
       "2  I thought this was a wonderful way to spend ti...  positive\n",
       "3  Basically there's a family where a little boy ...  negative\n",
       "4  Petter Mattei's \"Love in the Time of Money\" is...  positive"
      ]
     },
     "execution_count": 1,
     "metadata": {},
     "output_type": "execute_result"
    }
   ],
   "source": [
    "# Step 1: Import the pandas library, our tool for working with data tables\n",
    "import pandas as pd\n",
    "\n",
    "# Step 2: Define the path to our data file\n",
    "file_path = 'IMDB Dataset.csv'\n",
    "\n",
    "# Step 3: Load the CSV file into a pandas DataFrame\n",
    "# A DataFrame is like a smart spreadsheet for Python\n",
    "df = pd.read_csv(file_path)\n",
    "\n",
    "# Step 4: Display the first 5 rows to see what our data looks like\n",
    "print(\"Data loaded successfully!\")\n",
    "df.head()"
   ]
  },
  {
   "cell_type": "code",
   "execution_count": 2,
   "id": "5e6a4f5a",
   "metadata": {},
   "outputs": [
    {
     "name": "stdout",
     "output_type": "stream",
     "text": [
      "Value counts for sentiment:\n",
      "sentiment\n",
      "positive    25000\n",
      "negative    25000\n",
      "Name: count, dtype: int64\n",
      "------------------------------\n",
      "Training data size: 40000 reviews\n",
      "Testing data size: 10000 reviews\n"
     ]
    }
   ],
   "source": [
    "# Let's see how many positive vs. negative reviews we have\n",
    "print(\"Value counts for sentiment:\")\n",
    "print(df['sentiment'].value_counts())\n",
    "print(\"-\" * 30) # A separator line\n",
    "\n",
    "# Convert 'positive'/'negative' labels into 1/0\n",
    "df['sentiment_numeric'] = df['sentiment'].map({'positive': 1, 'negative': 0})\n",
    "\n",
    "# --- Splitting the Data ---\n",
    "from sklearn.model_selection import train_test_split\n",
    "\n",
    "# Define our features (X) and our target (y)\n",
    "# X is the data we use to make a prediction (the reviews)\n",
    "# y is what we want to predict (the 0 or 1 sentiment)\n",
    "X = df['review']\n",
    "y = df['sentiment_numeric']\n",
    "\n",
    "# Split the data into training and testing sets\n",
    "# We'll use 80% for training and 20% for testing.\n",
    "# random_state ensures we get the same split every time we run the code.\n",
    "X_train, X_test, y_train, y_test = train_test_split(\n",
    "    X, y, test_size=0.2, random_state=42\n",
    ")\n",
    "\n",
    "print(f\"Training data size: {len(X_train)} reviews\")\n",
    "print(f\"Testing data size: {len(X_test)} reviews\")"
   ]
  },
  {
   "cell_type": "code",
   "execution_count": 3,
   "id": "09725282",
   "metadata": {},
   "outputs": [
    {
     "name": "stdout",
     "output_type": "stream",
     "text": [
      "Text has been vectorized successfully!\n",
      "Shape of the training data matrix: (40000, 5000)\n",
      "Shape of the testing data matrix: (10000, 5000)\n"
     ]
    }
   ],
   "source": [
    "from sklearn.feature_extraction.text import TfidfVectorizer\n",
    "\n",
    "# Create a TF-IDF Vectorizer object\n",
    "# - max_features=5000 means we'll only use the top 5000 most important words.\n",
    "#   This saves memory and often improves performance.\n",
    "# - stop_words='english' automatically removes common English words like 'the', 'a', etc.\n",
    "vectorizer = TfidfVectorizer(stop_words='english', max_features=5000)\n",
    "\n",
    "# Learn the vocabulary from our training data and transform it into a matrix\n",
    "X_train_vectorized = vectorizer.fit_transform(X_train)\n",
    "\n",
    "# ONLY transform the test data using the vocabulary we already learned\n",
    "X_test_vectorized = vectorizer.transform(X_test)\n",
    "\n",
    "print(\"Text has been vectorized successfully!\")\n",
    "print(f\"Shape of the training data matrix: {X_train_vectorized.shape}\")\n",
    "print(f\"Shape of the testing data matrix: {X_test_vectorized.shape}\")"
   ]
  },
  {
   "cell_type": "code",
   "execution_count": 4,
   "id": "a63a4d03",
   "metadata": {},
   "outputs": [
    {
     "name": "stdout",
     "output_type": "stream",
     "text": [
      "Model training complete!\n",
      "------------------------------\n",
      "Model Accuracy: 85.09%\n",
      "\n",
      "--- Classification Report ---\n",
      "              precision    recall  f1-score   support\n",
      "\n",
      "    Negative       0.85      0.85      0.85      4961\n",
      "    Positive       0.85      0.85      0.85      5039\n",
      "\n",
      "    accuracy                           0.85     10000\n",
      "   macro avg       0.85      0.85      0.85     10000\n",
      "weighted avg       0.85      0.85      0.85     10000\n",
      "\n"
     ]
    }
   ],
   "source": [
    "from sklearn.naive_bayes import MultinomialNB\n",
    "from sklearn.metrics import accuracy_score, classification_report\n",
    "\n",
    "# Step 1: Create and train the Naive Bayes model\n",
    "# We create an instance of the model and then 'fit' it to our vectorized training data.\n",
    "model = MultinomialNB()\n",
    "model.fit(X_train_vectorized, y_train)\n",
    "\n",
    "print(\"Model training complete!\")\n",
    "print(\"-\" * 30)\n",
    "\n",
    "# Step 2: Make predictions on the unseen test data\n",
    "y_pred = model.predict(X_test_vectorized)\n",
    "\n",
    "# Step 3: Evaluate the model's performance\n",
    "accuracy = accuracy_score(y_test, y_pred)\n",
    "print(f\"Model Accuracy: {accuracy * 100:.2f}%\")\n",
    "print(\"\\n--- Classification Report ---\")\n",
    "# The classification report gives us more details like precision and recall.\n",
    "print(classification_report(y_test, y_pred, target_names=['Negative', 'Positive']))"
   ]
  },
  {
   "cell_type": "code",
   "execution_count": 5,
   "id": "edf5c2cd",
   "metadata": {},
   "outputs": [
    {
     "name": "stdout",
     "output_type": "stream",
     "text": [
      "Review: 'This movie was absolutely fantastic, the acting was superb!'\n",
      "Predicted Sentiment: Positive\n",
      "\n",
      "Review: 'It was a complete waste of time, the plot was boring and predictable.'\n",
      "Predicted Sentiment: Negative\n"
     ]
    }
   ],
   "source": [
    "def predict_sentiment(text):\n",
    "    \"\"\"\n",
    "    Takes a text string and predicts its sentiment using our trained model.\n",
    "    \"\"\"\n",
    "    # 1. Vectorize the input text using the same vectorizer we trained on\n",
    "    vectorized_text = vectorizer.transform([text])\n",
    "    \n",
    "    # 2. Use the trained model to predict\n",
    "    prediction = model.predict(vectorized_text)\n",
    "    \n",
    "    # 3. Convert the numerical prediction back to a readable label\n",
    "    if prediction[0] == 1:\n",
    "        return \"Positive\"\n",
    "    else:\n",
    "        return \"Negative\"\n",
    "\n",
    "# --- Let's test it! ---\n",
    "my_review_1 = \"This movie was absolutely fantastic, the acting was superb!\"\n",
    "my_review_2 = \"It was a complete waste of time, the plot was boring and predictable.\"\n",
    "\n",
    "print(f\"Review: '{my_review_1}'\")\n",
    "print(f\"Predicted Sentiment: {predict_sentiment(my_review_1)}\\n\")\n",
    "\n",
    "print(f\"Review: '{my_review_2}'\")\n",
    "print(f\"Predicted Sentiment: {predict_sentiment(my_review_2)}\")"
   ]
  },
  {
   "cell_type": "code",
   "execution_count": 6,
   "id": "ee9cb4f2",
   "metadata": {},
   "outputs": [
    {
     "name": "stdout",
     "output_type": "stream",
     "text": [
      "Vectorizer and model saved successfully to files!\n"
     ]
    }
   ],
   "source": [
    "import joblib\n",
    "\n",
    "# Save the vectorizer\n",
    "joblib.dump(vectorizer, 'tfidf_vectorizer.pkl')\n",
    "\n",
    "# Save the model\n",
    "joblib.dump(model, 'sentiment_model.pkl')\n",
    "\n",
    "print(\"Vectorizer and model saved successfully to files!\")"
   ]
  }
 ],
 "metadata": {
  "kernelspec": {
   "display_name": "venv",
   "language": "python",
   "name": "python3"
  },
  "language_info": {
   "codemirror_mode": {
    "name": "ipython",
    "version": 3
   },
   "file_extension": ".py",
   "mimetype": "text/x-python",
   "name": "python",
   "nbconvert_exporter": "python",
   "pygments_lexer": "ipython3",
   "version": "3.13.3"
  }
 },
 "nbformat": 4,
 "nbformat_minor": 5
}
